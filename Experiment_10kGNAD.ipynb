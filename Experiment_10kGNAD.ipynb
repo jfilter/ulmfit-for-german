{
 "cells": [
  {
   "cell_type": "code",
   "execution_count": 1,
   "metadata": {
    "ExecuteTime": {
     "end_time": "2019-04-27T12:02:29.761887Z",
     "start_time": "2019-04-27T12:02:28.513763Z"
    }
   },
   "outputs": [],
   "source": [
    "import csv\n",
    "\n",
    "from bpemb import BPEmb\n",
    "from cleantext import clean\n",
    "from fastai.callbacks import *\n",
    "from fastai.imports import torch\n",
    "from fastai.text import * \n",
    "import pandas as pd\n",
    "\n",
    "torch.cuda.set_device(2)"
   ]
  },
  {
   "cell_type": "code",
   "execution_count": 2,
   "metadata": {
    "ExecuteTime": {
     "end_time": "2019-04-27T12:03:28.717754Z",
     "start_time": "2019-04-27T12:02:33.680547Z"
    }
   },
   "outputs": [],
   "source": [
    "bpemb_de = BPEmb(lang=\"de\", vs=25000, dim=300)\n",
    "\n",
    "# construct the vocabulary by added a padding token with the ID 25000 (because of the bpemb_de vocab size)\n",
    "itos = dict(enumerate(bpemb_de.words + ['xxpad']))\n",
    "voc = Vocab(itos)\n",
    "\n",
    "def load_data(filename):\n",
    "    texts = []\n",
    "    labels = []\n",
    "    with open(filename) as csvfile:\n",
    "        # follow the 10kGNAD creator's setup\n",
    "        reader = csv.reader(csvfile, delimiter=';', quotechar='\\'')\n",
    "        for row in reader:\n",
    "            labels.append(row[0])\n",
    "            texts.append(row[1])\n",
    "    df = pd.DataFrame({'label': labels, 'text': texts})\n",
    "    df['text'] = df['text'].apply(lambda x: bpemb_de.encode_ids_with_bos_eos(clean(x, lang='de')))\n",
    "    return df\n",
    "\n",
    "df_train_valid = load_data(\"10kGNAD/train.csv\")\n",
    "\n",
    "# the last 1000 training samples are used for validation\n",
    "df_train = df_train_valid.iloc[:-1000]\n",
    "df_valid = df_train_valid.iloc[-1000:]\n",
    "\n",
    "df_test = load_data(\"10kGNAD/test.csv\")"
   ]
  },
  {
   "cell_type": "code",
   "execution_count": 24,
   "metadata": {
    "ExecuteTime": {
     "end_time": "2019-04-26T14:14:46.859701Z",
     "start_time": "2019-04-26T14:14:46.843146Z"
    }
   },
   "outputs": [],
   "source": [
    "data_lm = TextLMDataBunch.from_ids('uf_de_exp', bs=128, vocab=voc, train_ids=df_train['text'], valid_ids=df_valid['text'])"
   ]
  },
  {
   "cell_type": "code",
   "execution_count": 31,
   "metadata": {
    "ExecuteTime": {
     "end_time": "2019-04-26T14:35:56.908966Z",
     "start_time": "2019-04-26T14:35:55.142359Z"
    }
   },
   "outputs": [
    {
     "data": {
      "text/plain": [
       "LanguageLearner(data=TextLMDataBunch;\n",
       "\n",
       "Train: LabelList (8245 items)\n",
       "x: LMTextList\n",
       "<s> ▁00- jähriger ▁fällt ▁wohl ▁bis ▁saisonende ▁aus . ▁wien ▁- ▁rapid ▁muss ▁wohl ▁bis ▁saisonende ▁auf ▁offen siv spieler ▁thomas ▁mur g ▁verzichten . ▁der ▁im ▁winter ▁aus ▁ried ▁gekommen e ▁00- jährige ▁erlitt ▁beim ▁0:0- heim deb akel ▁gegen ▁ad m ira ▁wacker ▁mö dling ▁am ▁samstag ▁einen ▁teil riss ▁des ▁innen band es ▁im ▁linken ▁knie , ▁wie ▁eine ▁magnet res onanz - untersuchung ▁am ▁donner stag ▁ergab . ▁mur g ▁erhielt ▁eine ▁schien e , ▁muss ▁aber ▁nicht ▁oper iert ▁werden . ▁dennoch ▁steht ▁ihm ▁eine ▁mehr wöch ige ▁pause ▁bevor . </s>,<s> ▁erfunden e ▁bilder ▁zu ▁filmen , ▁die ▁als ▁verloren ▁gelten : ▁\" the ▁for b id den ▁ro om \" ▁von ▁guy ▁mad din ▁und ▁ev an ▁johnson ▁ist ▁ein ▁sur re aler ▁ritt ▁durch ▁die ▁mag ischen ▁lab yr in the ▁des ▁frühen ▁kinos . ▁wien ▁- ▁die ▁film geschichte ▁ist ▁ein ▁friedhof ▁der ▁verlorenen . ▁unter ▁den ▁begraben en ▁finden ▁sich ▁zahl lose ▁filme , ▁von ▁denen ▁nur ▁noch ▁myster iös ▁oder ▁abenteuer lich ▁klin gende ▁namen ▁kurs ieren ; ▁und ▁solche , ▁über ▁die ▁ver stre ut ▁herum lie gendes ▁sekundär material ▁auf schluss ▁erlaubt . ▁einer ▁davon ▁ist ▁the ▁for b id den ▁ro om , ▁ein ▁two - re eler ▁von ▁0000/00, ▁den ▁der ▁arbeits w üt ige ▁us - regisseur ▁allan ▁d wan ▁u . ▁a . ▁mit ▁dem ▁hor r ord arsteller ▁lon ▁ch ane y ▁gedreht ▁hat . ▁ein ▁passen der ▁titel ▁für ▁einen ▁film , ▁der ▁als ▁verschollen ▁gilt . ▁verb ote ▁sind ▁ein lad ungen ▁zur ▁über schr eitung . ▁einen ▁ähnlichen ▁gedanken ▁hatte ▁wohl ▁auch ▁der ▁kanadische ▁experiment al film emacher ▁guy ▁mad din , ▁als ▁er ▁seinem ▁film ▁von ▁0000 ▁den ▁gleichen ▁titel ▁gab . ▁gemeinsam ▁mit ▁seinem ▁kore g isseur ▁ev an ▁johnson ▁hat ▁er ▁vergessen e , ▁verschwunden e ▁arbeiten ▁der ▁film ▁geschichte ▁zum ▁ausgangspunkt ▁einer ▁neuer findung ▁erk oren . ▁um ▁historische ▁genauigkeit ▁geht ▁es ▁ihnen ▁dabei ▁frei lich ▁nicht , ▁erlaubt ▁ist ▁vielmehr ▁alles , ▁was ▁die ▁fantas ie ▁so ▁aus sp u ckt . ▁arg ▁anges p annte ▁szenen ▁in ▁einem ▁u - boot , ▁dessen ▁besatzung ▁tief ▁im ▁ozean ▁mit ▁einer ▁art ▁explos iv em ▁gele e ▁um her t aucht ▁und ▁sauerstoff ▁mit ▁pf ann k uchen ▁gener iert . ▁oder ▁die ▁erinnerungen ▁eines ▁schn ur r b arts , ▁der ▁sich ▁auf ▁die ▁ober lippe ▁des ▁sohnes ▁eines ▁toten ▁he ftet , ▁um ▁derart ▁der ▁witwe ▁tro st ▁zu ▁spenden . ▁letzteres ▁die ▁frei ▁erfunden e ▁handlung ▁eines ▁mik io - nar use - films ▁mit ▁dem ▁titel ▁the ▁stren gt h ▁of ▁a ▁mo ust ache . ▁immer ▁neue ▁vol ten ▁schlägt ▁die ▁handlung , ▁verläuft ▁dabei ▁kaum ▁jemals ▁linear , ▁sondern ▁gibt ▁sich ▁sprung haft , ▁sur real ▁dem ▁unerwar teten ▁hin , ▁irgend wo ▁zwischen ▁jules ▁ver ne , ▁jacques ▁tour neur , ▁f . ▁w . ▁m urn au ▁und ▁dem ▁von ▁mad din ▁verehr ten ▁modern isten ▁raymond ▁ro uss el . ▁der ▁britische ▁guard ian ▁beschrieb ▁das ▁ergebnis ▁so : ▁als ▁würde ▁man ▁unter ▁der ▁ein wirkung ▁von ▁l sd ▁durch ▁ein ▁film archiv ▁wand eln . ▁das ▁r ausch - ▁oder ▁zumindest ▁traum ähnliche ▁teilt ▁diese ▁arbeit ▁mad d ins ▁mit ▁seinen ▁früheren , ▁die ▁kürzer ▁dimension iert ▁waren . ▁the ▁for b id den ▁ro om ▁ist ▁durch ▁seine ▁dauer ▁von ▁mehr ▁als ▁zwei ▁stunden ▁schon ▁nahe ▁an ▁der ▁über dos is , ▁soll ▁heißen : ▁die ▁über forderung ▁ist ▁programm . ▁mad din ▁und ▁johnson ▁geben ▁sich ▁mit ▁keinen ▁hä pp chen ▁zufrieden , ▁sondern ▁wollen ▁ein ▁immer s ives ▁se her le bnis ▁ermöglichen , ▁in ▁einem ▁mehr ▁an ▁film pionier ▁georges ▁mel ies ▁orientierten ▁sinne . ▁sie ▁nehmen ▁die ▁fant astische ▁qualität ▁des ▁kinos ▁als ▁seine ▁eigentliche ▁realität ▁wahr ▁- ▁eine ▁wild ▁bilder ▁pum pen de , ▁an ▁unsere ▁ps y che ▁ge kop pel te ▁( und ▁daher ▁auch ▁manchmal ▁humor voll ▁kind liche ) ▁maschine , ▁wie ▁sie ▁schon ▁in ▁mad d ins ▁kurzfilm ▁the ▁heart ▁of ▁the ▁world ▁(0000) ▁zur ▁gelt ung ▁kam . ▁wer ▁nach ▁einem ▁zusammenhang ▁sucht , ▁findet ▁ihn ▁im ▁bekenntnis ▁zur ▁ab schwei fung . ▁die ▁verbindung ▁von ▁einem ▁wald arbeiter ▁( roy ▁dup u is ), ▁der ▁der ▁spur ▁einer ▁verschwunden en ▁frau ▁folgt , ▁zu ▁einem ▁( von ▁udo ▁k ier ▁verkörper ten ) ▁arzt ▁mit ▁einem ▁f etisch ▁für ▁ges äße ▁oder ▁zu ▁jenem ▁selt samen ▁re klam emen schen , ▁der ▁dem ▁zuschauer ▁erklärt , ▁wie ▁man ▁das ▁perfe kte ▁bad ▁nimmt ▁- ▁sie ▁liegt ▁allen falls ▁in ▁der ▁oberfläche , ▁jener ▁digital ▁in ▁der ▁post produktion ▁her gestellten ▁ästhetik ▁des ▁frühen ▁kinos , ▁die ▁the ▁for b id den ▁ro om ▁wie ▁ein ▁ges pen st ▁des ▁anal ogen ▁zeitalter s ▁wach ru ft . ▁künstlich ▁verw itter t ▁die ▁farben ▁der ▁lauf bilder , ▁die ▁auf ▁das ▁eingeschrän kte ▁zwei - farben - techn ic ol or - verfahren ▁ver weisen , ▁sind ▁künstlich ▁herunter gest uft , ▁als ▁wäre ▁das ▁film material ▁der ▁verw itterung ▁ausgesetzt ▁gewesen ; ▁manche ▁doppel bel icht ungen ▁wirken ▁so , ▁als ▁wären ▁die ▁m ate ▁r ial ien ▁ineinander gesch molzen . ▁auch ▁mit ▁zw isch entitel n ▁und ▁dem ▁weit gehenden ▁verzicht ▁auf ▁herkömm liche ▁dial oge ▁schließen ▁mad din ▁und ▁ev an ▁an ▁den ▁stumm film ▁an , ▁dessen ▁stil istische ▁band breite ▁sie ▁in ▁der ▁mont age ▁und ▁szen ischen ▁regie ▁spieler isch ▁bet onen ▁und ▁aus ag ieren . ▁die ▁am nes ie , ▁heißt ▁es ▁in ▁diesem ▁vis uell ▁bet ör enden ▁film ▁einmal , ▁bef äl lt ▁jene ▁menschen , ▁zu ▁denen ▁die ▁figuren ▁aus ▁der ▁fer ne ▁zurückkehren . ▁der ▁ged anke ▁lässt ▁sich ▁auch ▁auf ▁die ▁bilder ▁des ▁films ▁an wenden : ▁er ▁enthält ▁die ▁fragmente ▁eines ▁kinos , ▁an ▁das ▁wir ▁uns ▁nicht ▁mehr ▁erinnern ▁können , ▁weil ▁wir ▁es ▁für ▁verloren ▁hielten . </s>,<s> ▁der ▁frisch ge kür te ▁c eo ▁sund ar ▁p ich ai ▁setzt ▁auf ▁ein ▁um g änglich er es ▁führung ste am . ▁die ▁atmosphäre ▁im ▁sil icon ▁valley ▁ist ▁rau . ▁da ▁werden ▁massen haft ▁mitarbeiter ▁der ▁direkten ▁konkurrenz ▁abgew orben , ▁lö hne ▁mit ▁firmen übergreifen den ▁m ausch el eien ▁niedrig ▁gehalten ▁und ▁unter geben e ▁wegen ▁leicht ▁ver fehl ter ▁ziele ▁vor ▁die ▁tür ▁gesetzt . ▁auch ▁in ▁der ▁höchsten ▁firmen ebene ▁werden ▁brut ale ▁umgangs formen ▁gepflegt : ▁die ▁wut aus brüche ▁von ▁apple - mit gründer ▁steve ▁job s ▁sind ▁legend är , ▁sein ▁früherer ▁geschäft spartner ▁steve ▁wo zn iak ▁hätte ▁ihn ▁zu ▁lebzeiten ▁gerne ▁als ▁ar schl och ▁besch im pft , ▁tr aute ▁sich ▁aber ▁nicht . ▁auch ▁google - mit gründer ▁larry ▁page ▁gilt ▁als ▁chol er iker , ▁für ▁den ▁ein ▁human er ▁umgang ▁mit ▁mitarbeitern ▁nicht ▁an ▁erster ▁stelle ▁steht . ▁doch ▁die ▁zeiten ▁des ▁harten ▁management - stil s ▁sind ▁bei ▁google ▁vorbei . ▁das ▁belegen ▁zahlreiche ▁ehemalige ▁mitarbeiter ▁und ▁geschäft spartner . ▁wie ▁ein ▁ex - manager ▁gegenüber ▁re : code ▁point iert ▁verl aut bart : ▁alle ▁ar schl ö cher ▁sind ▁jetzt ▁weg . ▁verantwortlich ▁dafür ▁zeichnet ▁sich ▁sund ar ▁p ich ai , ▁der ▁nach ▁go og les ▁großer ▁um struktur ierung ▁( gründung ▁des ▁dach unternehmens ▁alphabet ) ▁zum ▁c eo ▁des ▁such m asch in isten ▁wurde . ▁in ▁den ▁wenigen ▁monaten ▁als ▁google - chef ▁hat ▁p ich ai ▁nun ▁bereits ▁einige ▁um struktur ierungen ▁vorgenommen ▁- ▁und ▁erhält ▁dafür ▁viel ▁lob ▁aus ▁der ▁br anche . ▁so ▁wurde ▁beispielsweise ▁hir oshi ▁lock heimer ▁zum ▁andro id - chef ▁gemacht . ▁ehemalige ▁kollegen , ▁etwa ▁motor ola - präsident ▁rick ▁oster loh , ▁schw är men ▁von ▁ihm ▁als ▁groß artigen ▁typen , ▁den ▁man ▁sehr ▁gern ▁hat . ▁so ▁soll ▁lock heimer ▁dafür ▁ges orgt ▁haben , ▁dass ▁alle ▁smart phone - hersteller , ▁die ▁auf ▁andro id ▁setzen , ▁gleich berechtigten ▁zugang ▁zu ▁entwicklungen ▁des ▁betriebssystem s ▁haben ▁- ▁auch , ▁als ▁motor ola ▁noch ▁zu ▁google ▁gehörte . ▁ein ▁anderes ▁beispiel ▁ist ▁philipp ▁sch indler , ▁der ▁go og les ▁werbe geschäft ▁leiten ▁soll . ▁medien partner ▁beschreiben ▁ihn ▁als ▁kompromiss bereit ▁und ▁um g änglich . ▁gel ernt ▁hat ▁sch indler ▁das ▁in ▁europa , ▁wo ▁er ▁google ▁jahrelang ▁gegen ▁monopol - vor würfe ▁aus ▁regierungs kreisen ▁verteidigen ▁musste . ▁älterer ▁semester ▁im ▁google - um feld ▁befür chten ▁laut ▁re : code ▁allerdings , ▁dass ▁ein ▁so ftes ▁google ▁wichtige ▁sch arm ütz el ▁verlieren ▁wird . ▁doch ▁die ▁zeit ▁der ▁ausge fahren en ▁ell bogen ▁ist ▁vorerst ▁vorbei . </s>,<s> ▁put in : ▁\" ein igung , ▁dass ▁wir ▁menge ▁auf ▁niveau ▁von ▁jänner ▁halten \". ▁moskau ▁- ▁die ▁russischen ▁öl produzenten ▁wollen ▁nach ▁den ▁worten ▁von ▁präsident ▁wladimir ▁put in ▁ihre ▁förderung ▁in ▁diesem ▁jahr ▁ein fr ieren . ▁im ▁großen ▁und ▁ganzen ▁wurde ▁eine ▁einigung ▁erzielt , ▁dass ▁wir ▁die ▁öl produktion ▁auf ▁dem ▁niveau ▁von ▁jänner ▁halten ▁werden , ▁sagte ▁put in ▁am ▁mitt woch ▁in ▁moskau . ▁russland ▁lei det ▁wie ▁andere ▁förder staaten ▁unter ▁dem ▁dra st ischen ▁ein bruch ▁der ▁öl preise . ▁put in ▁will ▁die ▁preise ▁durch ▁eine ▁begrenz te ▁förderung ▁im ▁in - ▁und ▁ausland ▁stabil isieren . ▁dazu ▁hatte ▁russland ▁jüng st ▁mit ▁saudi - arabien ▁und ▁anderen ▁großen ▁förder ländern ▁über ▁ein ▁ein fr ieren ▁der ▁produktion ▁auf ▁dem ▁jänner - niveau ▁beraten . </s>,<s> ▁estland ▁sieht ▁den ▁kün ftigen ▁österreich ischen ▁präsidenten ▁auch ▁als ▁estnischen ▁staatsbürger . ▁wien / t all inn / p sk ow ▁- ▁die ▁eltern ▁des ▁kün ftigen ▁bundes präsidenten ▁waren ▁0000 ▁aus ▁dem ▁von ▁sowjet s ▁besetzten ▁estland ▁in ▁das ▁damalige ▁deutsche ▁reich ▁gefl o hen , ▁wo ▁0000 ▁in ▁wien ▁s ascha ▁van ▁der ▁bel len ▁zur ▁welt ▁kam . ▁est nische ▁verwandte ▁j ub elten ▁am ▁dienst ag ▁über ▁dessen ▁wahl sieg , ▁freude ▁herrscht ▁auch ▁unter ▁politik ern ▁des ▁landes . ▁interesse ▁an ▁van ▁der ▁bel len ▁gibt ▁es ▁auch ▁in ▁der ▁russischen ▁stadt ▁p sk ow , ▁der ▁geburts stadt ▁seiner ▁eltern . ▁wir ▁haben ▁von ▁ganz em ▁herzen ▁und ▁mit ▁der ▁ganzen ▁familie ▁mit gef ie bert , ▁sagt ▁ir ina ▁stein berg , ▁eine ▁cous ine ▁des ▁kün ftigen ▁präsidenten . ▁der ▁sonntag ▁sei ▁für ▁sie ▁deshalb ▁ein ▁großer ▁str ess ▁gewesen , ▁erzählt ▁stein berg ▁im ▁telefon at ▁mit ▁der ▁a pa . ▁sein ▁sieg ▁zeu gt ▁davon , ▁dass ▁die ▁österreichische ▁intelligen zi ja , ▁die ▁denken den ▁menschen , ▁für ▁s ascha ▁gest immt ▁haben , ▁so ▁die ▁studierte ▁phil ologin , ▁die ▁in ▁einem ▁dorf ▁im ▁süden ▁est lands ▁lebt . ▁freud ig ▁wird ▁der ▁wahl sieg ▁des ▁ehemaligen ▁grünen - che fs ▁auch ▁von ▁estnischen ▁politik ern ▁komment iert . ▁die ▁wahl ▁eines ▁präsidenten ▁mit ▁estnischen ▁wurzeln ▁schafft ▁günst ige ▁bedingungen ▁für ▁eine ▁enger e ▁zusammenarbeit ▁zwischen ▁estland ▁und ▁österreich , ▁erklärt ▁der ▁vorsitzende ▁des ▁außen politischen ▁ausschusses ▁im ▁estnischen ▁parlament , ▁sven ▁mik ser . ▁da ▁estland ▁aber ▁auch ▁den ▁aufschwung ▁europas ke pt ischer ▁kräfte ▁mit ▁sorge ▁beob achte , ▁sei ▁er ▁fro h , ▁dass ▁sich ▁die ▁österreicher ▁für ▁van ▁der ▁bel len ▁entscheiden ▁haben , ▁sagt ▁der ▁vertreter ▁der ▁sozialdemokrat ischen ▁partei ▁est lands ▁gegenüber ▁der ▁a pa . ▁das ▁w ahler gebnis ▁ist ▁ein ▁guter ▁grund , ▁den ▁österreich ern ▁gleich ▁doppelt ▁zu ▁grat ulieren , ▁betont ▁der ▁ehemalige ▁außenminister ▁und ▁nunmehr ige ▁liberale ▁europap arlament sab geordnete ▁ur mas ▁pa et . ▁van ▁der ▁bel len ▁sei ▁für ▁die ▁jetz ige ▁zeit ▁eine ▁sehr ▁vern ün ftige ▁wahl , ▁sie ▁sei ▁gut ▁für ▁europa ▁und ▁österreich , ▁sagt ▁pa et ▁im ▁gespräch ▁mit ▁der ▁a pa . ▁für ▁estland ▁und ▁das ▁est nische ▁volk ▁spielt ▁aber ▁auch ▁die ▁tatsache ▁eine ▁rolle , ▁dass ▁österreich ▁einen ▁estnischen ▁staatsbürger ▁zum ▁präsidenten ▁gewählt ▁hat . ▁nach ▁auskunft ▁des ▁estnischen ▁außen ministeriums ▁gelten ▁kinder ▁von ▁bewohnern ▁des ▁0000 ▁zerstörten ▁unabhängigen ▁estland , ▁die ▁vor ▁dem ▁00. ▁juni ▁0000 ▁über ▁die ▁est nische ▁staatsbürger schaft ▁verfügten , ▁automatisch ▁als ▁staatsbürger ▁des ▁nunmehr igen ▁estland . ▁der ▁a pa ▁vor liegende ▁dokumente ▁des ▁estnischen ▁staats archivs ▁und ▁des ▁deutschen ▁bundes archivs ▁belegen , ▁dass ▁alma ▁und ▁alexander ▁van ▁der ▁bel len ▁senior , ▁die ▁eltern ▁des ▁kün ftigen ▁präsidenten , ▁damals ▁im ▁besitz ▁der ▁estnischen ▁staatsbürger schaft ▁waren . ▁interesse ▁am ▁kün ftigen ▁präsidenten ▁zeigt ▁aber ▁auch ▁p sk ow , ▁das ▁im ▁westen ▁russland ▁an ▁der ▁heutigen ▁estnischen ▁grenze ▁liegt . ▁die ▁ursprünglich ▁aus ▁holland ▁stammende ▁familie ▁war ▁hier ▁im ▁00. ▁jahrhundert ▁in ▁den ▁russischen ▁adel stand ▁erhoben ▁worden , ▁insbesondere ▁der ▁ebenso ▁gleichnamige ▁großvater ▁von ▁alexander ▁van ▁der ▁bel len ▁hatte ▁vor ▁der ▁oktober revolution ▁des ▁jahres ▁0000 ▁eine ▁tra gende ▁politische ▁funktion ▁in ▁der ▁region ▁gespielt . ▁nach ▁der ▁bürgerlichen ▁februar revolution ▁von ▁0000 ▁war ▁dieser ▁vertreter ▁eines ▁russischen ▁liber alismus ▁zum ▁kommissar ▁der ▁übergangs regierung ▁für ▁das ▁gouver nement ▁p sk ow ▁und ▁somit ▁zum ▁lokalen ▁regierungschef ▁ernannt ▁worden . ▁in ▁einigen ▁lokal medien ▁finden ▁sich ▁schlag zeilen , ▁in ▁denen ▁vom ▁sieg ▁des ▁nach fahren ▁eines ▁arist okrat en ▁aus ▁p sk ow ▁oder ▁des ▁en kels ▁des ▁p sko wer ▁gouverneurs ▁die ▁rede ▁ist , ▁berichtet ▁der ▁direktor ▁des ▁archiv s ▁der ▁region ▁p sk ow , ▁w aler i ▁kus min . ▁in ▁diesem ▁archiv ▁finden ▁sich ▁zahlreiche ▁akten ▁zur ▁familie ▁van ▁der ▁bel len , ▁insbesondere ▁zur ▁politischen ▁tätigkeit ▁der ▁vorfahren . ▁kus min ▁geht ▁im ▁gespräch ▁mit ▁der ▁a pa ▁davon ▁aus , ▁dass ▁in ▁der ▁nächsten ▁zeit ▁auch ▁einige ▁wissenschaft liche ▁publikationen ▁über ▁die ▁van ▁der ▁bel len s ▁in ▁p sk ow ▁erscheinen ▁werden . ▁die ▁geschichte ▁dieser ▁klein ar ist okrat en ▁in ▁p sk ow ▁ging ▁nach ▁der ▁machtübernahme ▁der ▁bol schew iken ▁zu ▁ende : ▁0000 ▁floh ▁die ▁familie , ▁darunter ▁die ▁groß eltern ▁und ▁der ▁vater ▁des ▁kün ftigen ▁präsidenten , ▁nach ▁estland . ▁als ▁die ▁sowjet s ▁0000 ▁estland ▁eroberten , ▁floh ▁man ▁erneut ▁richtung ▁westen . ▁van ▁der ▁bel len s ▁vater ▁hatte ▁zu ▁diesem ▁zeitpunkt ▁aufgrund ▁seiner ▁herkunft ▁und ▁insbesondere ▁als ▁international ▁tät iger ▁bank er ▁re press ionen ▁des ▁sowjetischen ▁geheimdienst s ▁n kw d ▁zu ▁befür chten . ▁die ▁flucht ▁ging ▁zunächst ▁nach ▁wien ▁und ▁ende ▁0000, ▁anfang ▁0000 ▁und ▁somit ▁rechtzeitig ▁vor ▁dem ▁ein treffen ▁der ▁rote ▁armee ▁in ▁ost österreich ▁weiter ▁nach ▁tirol , ▁wo ▁van ▁der ▁bel len ▁senior ▁eine ▁existenz ▁im ▁außen handel ▁aufbau en ▁konnte ▁und ▁zudem ▁ein ▁kün ftiger ▁präsident ▁heran wachsen ▁sollte . </s>\n",
       "y: LMLabelList\n",
       ",,,,\n",
       "Path: uf_de_exp;\n",
       "\n",
       "Valid: LabelList (1000 items)\n",
       "x: LMTextList\n",
       "<s> ▁sam wer : ▁\" kurz frist ige ▁optim ierung ▁des ▁börsen kur ses ▁und ▁der ▁kommunikation ▁ist ▁für ▁mich ▁kein ▁thema ▁mehr \". ▁berlin ▁- ▁rock et - intern et - gründer ▁oliver ▁sam wer ▁will ▁seine ▁aktion äre ▁nach ▁dem ▁kur sst urz ▁von ▁der ▁langfrist igen ▁perspektive ▁der ▁internet - beteil igungs gesellschaft ▁überzeugen . ▁die ▁kurz frist ige ▁optim ierung ▁des ▁börsen kur ses ▁und ▁der ▁kommunikation ▁ist ▁für ▁mich ▁kein ▁thema ▁mehr , ▁sagte ▁er ▁der ▁süddeutschen ▁zeitung . ▁in ▁fünf ▁oder ▁zehn ▁jahren ▁müssen ▁wir ▁besser ▁verstanden ▁werden . ▁in ▁deutschland ▁sei ▁es ▁schwer , ▁das ▁geschäfts modell ▁einer ▁wag nis kapital gesellschaft ▁zu ▁erklären . ▁bei ▁rock et ▁internet ▁haben ▁wir ▁übrigen s ▁eine ▁große ▁bereit schaft ▁zum ▁scheitern . ▁bei ▁anderen ▁expl od iert ▁nicht ▁jeden ▁tag ▁irgend ein ▁geschäft . ▁deshalb ▁müsse ▁er ▁viel ▁kommun izieren ▁und ▁erklären . ▁zuletzt ▁hatte ▁rock et ▁internet ▁schlag zeilen ▁gemacht , ▁weil ▁das ▁unternehmen ▁seine ▁in ▁der ▁global ▁f ash ion ▁group ▁( g fg ) ▁geb ün delten ▁sechs ▁mode händler ▁von ▁gut ▁0 ▁mrd . ▁auf ▁0 ▁mrd . ▁euro ▁abge wertet ▁hatte . ▁zugleich ▁sch ossen ▁rock et ▁und ▁der ▁partner ▁kin ne vik ▁zusammen ▁000 ▁mio . ▁euro ▁fr isches ▁kapital ▁bei ▁der ▁g fg ▁nach . ▁wom öglich ▁sei ▁der ▁bedarf ▁der ▁g fg ▁an ▁flüss igen ▁mitteln ▁falsch ▁eingesch ätzt ▁worden , ▁sagte ▁sam wer . ▁trotzdem ▁halte ▁rock et ▁internet ▁an ▁den ▁beteil igungen ▁fest . ▁wir ▁werden ▁mit ▁dem ▁invest ierten ▁kapital ▁einen ▁guten ▁ret urn ▁machen ▁sagte ▁sam wer . ▁wir ▁glauben ▁an ▁diese ▁firma , ▁und ▁wir ▁werden ▁auch ▁mit ▁dieser ▁firma ▁geld ▁verd ienen . ▁in ▁der ▁vergangenen ▁woche ▁hatten ▁die ▁beiden ▁vertreter ▁des ▁schwedischen ▁invest ors ▁kin ne vik , ▁der ▁00,0 ▁prozent ▁an ▁rock et ▁hält ▁und ▁bei ▁vielen ▁start up - firmen ▁gemeinsam ▁mit ▁der ▁berliner ▁firma ▁invest iert , ▁den ▁aufsichtsrat ▁verlassen . ▁voraus gegangen ▁war ▁laut ▁in si dern ▁ein ▁streit ▁zwischen ▁kin ne vik - chef ▁lorenzo ▁gra bau ▁und ▁sam wer . ▁die ▁veränderungen ▁im ▁aufsichtsrat ▁geschehen ▁nicht ▁aus ▁gegner schaft , ▁sondern ▁aus ▁der ▁überzeugung , ▁das ▁unternehmen ▁weiter ▁vor anz ut reiben , ▁sagte ▁sam wer ▁dazu . ▁jetzt ▁stehen ▁wir ▁vor ▁neuen ▁heraus forderungen , ▁und ▁wir ▁verändern ▁die ▁mannschafts auf stellung ▁entsprechend . </s>,<s> ▁te ster ▁zeigen ▁technische ▁unterschiede ▁zwischen ▁den ▁versionen ▁auf . ▁mit ▁der ▁jüng st ▁veröffentlich ten ▁bet a - test version ▁von ▁star ▁wars ▁battle front ▁können ▁sich ▁spieler ▁erstmals ▁einen ▁eindruck ▁von ▁alle ▁kommenden ▁fass ungen ▁des ▁games ▁für ▁windows - pc , ▁playstation ▁0 ▁und ▁x box ▁one ▁ver schaffen . ▁einige ▁fach seiten ▁haben ▁diese ▁gelegenheit ▁für ▁ausführ liche ▁grafik vergleich e ▁genutzt . ▁laut ▁eur og am ers ▁technologie bl og ▁digital ▁found ry , ▁das ▁alle ▁versionen ▁in sp iziert ▁hat , ▁gibt ▁es ▁bereits ▁bei ▁den ▁kons olen versionen ▁sichtbare ▁unterschiede . ▁die ▁x bo - ausgabe ▁rech net ▁mit ▁0.000 ▁x ▁000 ▁pix el , ▁die ▁ps 0- version ▁mit ▁0.000 ▁x ▁000 ▁pix el . ▁das ▁führ e ▁zu ▁einem ▁allgemein ▁un sch är fer en ▁bild ▁auf ▁dem ▁microsoft - system , ▁das ▁häufig ▁von ▁treppen eff ekten ▁und ▁einer ▁un prä z isen ▁det a ild ar stellung ▁geprägt ▁sei . ▁auf ▁der ▁ps 0 ▁sei ▁die ▁situation ▁ebenfalls ▁nicht ▁ideal , ▁hier ▁funktion iere ▁aber ▁die ▁skal ierung ▁auf ▁volle ▁0000 ▁p ▁dank ▁eff izien ter ▁kanten gl ätt ung ▁besser , ▁wodurch ▁spielern ▁ein ▁weitgehend ▁klar es ▁bild ▁präsentiert ▁werde . ▁dass ▁beide ▁versionen ▁nicht ▁n ativ ▁mit ▁0000 ▁p ▁laufen , ▁lie ge ▁an ▁der ▁prior isierung ▁der ▁performance . ▁sowohl ▁auf ▁der ▁x bo ▁als ▁auch ▁auf ▁der ▁ps 0 ▁laufe ▁das ▁spiel ▁die ▁meiste ▁zeit ▁konstant ▁mit ▁flüss igen ▁00 ▁bildern ▁pro ▁sekunde . ▁dass ▁noch ▁verbesserungen ▁nötig ▁seien , ▁zei ge ▁sich ▁an ▁bild raten ein brüchen ▁auf ▁bis ▁zu ▁00 ▁f ps ▁bei ▁intens iven ▁szenen ▁- bei ▁der ▁x bo ▁kä men ▁diese ▁ein brüche ▁noch ▁etwas ▁häufiger ▁vor ▁als ▁bei ▁der ▁ps 0. ▁als ▁einblick ▁in ▁den ▁zustand ▁von ▁star ▁wars ▁battle front ▁vor ▁dem ▁markt start ▁im ▁november ▁ist ▁es ▁fair ▁zu ▁behaupten , ▁dass ▁die ▁ps 0- bet a ▁in ▁einem ▁ges ünder en ▁zustand ▁ist , ▁so ▁digital ▁found ry . ▁mit ▁einem ▁klar eren ▁bild ▁und ▁einer ▁besseren ▁durchschnitt lichen ▁bild rate , ▁sieht ▁es ▁derzeit ▁stark ▁so ▁aus , ▁als ▁sollte ▁man ▁zum ▁start ▁nach ▁der ▁ps 0- version ▁aussch au ▁halten . ▁wer ▁über ▁einen ▁leistungs stark en ▁computer ▁verfü ge , ▁kann ▁laut ▁den ▁test ern ▁noch ▁mehr ▁aus ▁dem ▁neuen ▁battle front ▁heraus holen . ▁vor ▁allem ▁die ▁auflösung , ▁die ▁bild rate ▁und ▁details ▁ließen ▁sich ▁noch ▁in ▁die ▁höhe ▁schrauben . ▁dennoch ▁sch lage ▁sich ▁die ▁ps 0- fassung ▁im ▁direkt vergleich ▁relativ ▁gut : ▁die ▁ps 0- version ▁läuft ▁mit ▁ein stellungen ▁vergleichbar ▁mit ▁den ▁high - qual ity - s ett ings ▁der ▁pc - ausgabe ▁- ▁inklusive ▁den ▁ein stellungen ▁für ▁text uren , ▁umgeb ungs bel eu chtung , ▁post - pro cess ing , ▁objekt detail s ▁und ▁boden ober flächen detail s . ▁bei ▁den ▁hohen ▁empfohlen en ▁s yste man forderungen ▁für ▁die ▁pc - ausgabe ▁gibt ▁eur og amer ▁vorerst ▁ent war nung . ▁die ▁empfohlen en ▁00 ▁gb ▁ram ▁dürften ▁etwas ▁hoch geg riffen ▁sein . ▁im ▁zuge ▁eines ▁vor ab tests ▁erwies ▁sich ▁ein ▁system ▁mit ▁i 0 -0000- prozess or , ▁0 ▁gb ▁ram ▁und ▁am d - r 0 -000 x - grafik karte ▁als ▁ausreichend ▁stark , ▁um ▁das ▁spiel ▁mit ▁über ▁00 ▁bildern ▁pro ▁sekunde ▁und ▁0000- p - auf lösung ▁bei ▁maxim alen ▁details ▁auszu geben . ▁für ▁besitzer ▁schwäch erer ▁pc ▁gebe ▁es ▁ebenso ▁gute ▁nachrichten . ▁das ▁spiel ▁bie te ▁jede ▁menge ▁opt ionen , ▁die ▁grafik detail s ▁herunter zus chr auben ▁und ▁flüss iges ▁spielen ▁zu ▁ermöglichen . </s>,<s> ▁burgen länder ▁fre ut ▁sich ▁auf ▁die ▁lyon ess ▁open ▁und ▁hat ▁vier ▁anstr en gende ▁wochen ▁vor ▁sich . ▁wien ▁- ▁der ▁starke ▁zweite ▁platz ▁bei ▁den ▁ir ish ▁open ▁hat ▁gol fer ▁bernd ▁wies berger ▁nicht ▁nur ▁einen ▁vor stoß ▁in ▁der ▁welt rangliste ▁auf ▁platz ▁00 ▁sondern ▁auch ▁eine ▁defin itive ▁einladung ▁zu ▁den ▁us ▁open ▁gebracht . ▁unmittelbar ▁nach ▁seinem ▁heim auftritt ▁bei ▁den ▁lyon ess ▁open ▁wird ▁österreichs ▁nummer ▁eins ▁damit ▁ab ▁00. ▁juni ▁auch ▁beim ▁zweiten ▁saison - major ▁nach ▁dem ▁us ▁masters ▁auf te en . ▁den ▁heraus fordern den ▁monat ▁startet ▁wies berger ▁aber ▁schon ▁kommende ▁woche ▁in ▁at zen bru gg , ▁wo ▁er ▁versucht , ▁mit ▁den ▁lyon ess ▁open ▁das ▁große ▁heim - turnier ▁zum ▁zweiten ▁mal ▁nach ▁0000 ▁zu ▁gewinnen . ▁die ▁form ▁würde ▁passen , ▁denn ▁nach ▁der ▁enttäus chen den ▁leistung ▁bei ▁der ▁bmw ▁p ga ▁championship ▁in ▁w ent worth ▁ist ▁dank ▁eines ▁intens iven ▁kurz spiel - train ings ▁mit ▁coach ▁dam ian ▁taylor ▁die ▁trend wende ▁zur ▁rechten ▁zeit ▁gekommen . ▁in ▁nord irland ▁musste ▁sich ▁der ▁ober war ter ▁erst ▁im ▁ste chen ▁geschlagen ▁geben ▁und ▁holte ▁nach ▁den ▁malays ian ▁open ▁einen ▁weiteren ▁zweiten ▁platz ▁in ▁diesem ▁jahr . ▁nur ▁der ▁dritte ▁titel ▁auf ▁der ▁europa - tour ▁wollte ▁neuer lich ▁nicht ▁gel ingen . ▁es ▁war ▁ein ▁har ter ▁kampf ▁bei ▁extr emen ▁bedingungen ▁die ▁gesamte ▁woche ▁über . ▁ich ▁bin ▁sehr ▁fro h ▁über ▁die ▁entwicklung , ▁die ▁mein ▁spiel ▁genommen ▁hat , ▁sagte ▁wies berger ▁über ▁irland . ▁lei der ▁hat ▁es ▁am ▁schluss ▁knapp ▁nicht ▁zum ▁sieg ▁ger eicht . ▁ich ▁d achte ▁aber ▁auch ▁vor ▁der ▁final runde ▁nicht , ▁dass ▁zwei ▁unter ▁par ▁das ▁winn ing ▁sc ore ▁werden ▁würde , ▁sagte ▁der ▁rei ters ▁pro . ▁als ▁nummer ▁00 ▁der ▁welt ▁ist ▁wies berger s ▁start ▁bei ▁den ▁von ▁der ▁us ga ▁ausger ichteten ▁und ▁mit ▁0 ▁mio . ▁dollar ▁dot ierten ▁us ▁open ▁kein ▁problem , ▁die ▁reise ▁dorthin ▁wird ▁frei lich ▁anstr en gend . ▁gespielt ▁wird ▁nämlich ▁in ▁cham bers ▁bay ▁in ▁der ▁nähe ▁von ▁seattle ▁an ▁der ▁pazifik - küste ▁der ▁usa ▁und ▁wie ▁in ▁irland ▁auf ▁einem ▁links - kurs . ▁unmittelbar ▁danach ▁geht ▁es ▁zurück ▁nach ▁europa ▁zu ▁den ▁bmw ▁international ▁open ▁in ▁münchen , ▁danach ▁folgen ▁die ▁open ▁de ▁france ▁in ▁paris . ▁für ▁dieses ▁monster programm ▁muss ▁sich ▁wies berger ▁die ▁kräfte ▁also ▁gut ▁ein teilen . ▁( apa ; ▁0. 0. 0000) </s>,<s> ▁lin zer ▁nach ▁0:0 ▁nur ▁noch ▁drei ▁punkte ▁hinter ▁salzburg , ▁das ▁in ▁dorn b irn ▁unterliegt . ▁wien ▁- ▁eishockey - meister ▁red ▁bull ▁salzburg ▁hat ▁in ▁der ▁e bel ▁nach ▁zuletzt ▁sechs ▁auswärt ser folgen ▁am ▁freitag ▁eine ▁0:0- schla ppe ▁in ▁dorn b irn ▁kass iert ▁und ▁führt ▁nur ▁noch ▁drei ▁punkte ▁vor ▁den ▁black ▁wings ▁linz , ▁die ▁gegen ▁die ▁vienna ▁capit als ▁mit ▁0:0 ▁gewannen . ▁dorn b irn ▁ist ▁vor ▁dem ▁k ac , ▁der ▁in ▁innsbruck ▁0:0 ▁verlor , ▁vierter . ▁salzburg , ▁das ▁beste ▁auswärt ste am ▁der ▁erste ▁bank ▁eishockey ▁liga , ▁verlor ▁damit ▁auch ▁das ▁zweite ▁saison - du ell ▁in ▁dorn b irn , ▁die ▁beste ▁offensive ▁blieb ▁gegen ▁die ▁beste ▁defen sive ▁wirkungs los . ▁dank ▁zweier ▁tore ▁im ▁power play ▁( mack enz ie /0. ▁und ▁living ston ▁/ 00. ) ▁sowie ▁einem ▁treffer ▁von ▁da vers a ▁(00. ) ▁führten ▁die ▁vorarl berger ▁schon ▁bei ▁halb zeit ▁klar ▁und ▁sorgten ▁dafür , ▁dass ▁salzburg ▁erstmals ▁seit ▁00. ▁september ▁und ▁neuer lich ▁aus ▁dem ▁länd le ▁mit ▁einer ▁niederlage ▁heim fahren ▁musste . ▁die ▁black ▁wings , ▁die ▁erstmals ▁alle ▁leistung sträger ▁zur ▁verfügung ▁hatten , ▁been deten ▁mit ▁dem ▁kn appen ▁sieg ▁auch ▁ihre ▁negativ - serie ▁gegen ▁die ▁wiener . ▁fünfmal ▁hatten ▁die ▁cap s ▁zuletzt ▁die ▁ober hand ▁behalten . ▁dank ▁gam ache ▁schon ▁nach ▁00 ▁sekunden ▁mit ▁0:0 ▁voran , ▁kass ierten ▁die ▁wiener ▁kurz ▁vor ▁der ▁ersten ▁pause ▁den ▁ausgleich ▁durch ▁ho fer ▁(00. ). ▁mc le an ▁gelang ▁der ▁schließlich ▁entscheidende ▁treffer ▁(00. ) ▁für ▁die ▁gastgeber , ▁die ▁0.000 ▁fans ▁in ▁die ▁halle ▁gel ockt ▁hatten . ▁der ▁k ac ▁mussten ▁nach ▁der ▁liga - pause ▁erstmals ▁nach ▁vier ▁siegen ▁wieder ▁als ▁verl ierer ▁vom ▁eis . ▁die ▁innsbruck er ▁ha ie ▁führten ▁nach ▁je ▁zwei ▁treff ern ▁von ▁schr amm ▁und ▁hahn ▁nach ▁00 ▁minuten ▁schon ▁0:0, ▁doch ▁die ▁kärntner ▁kamen ▁bis ▁auf ▁0:0 ▁heran . ▁danach ▁wechselten ▁die ▁szenen ▁in ▁dem ▁pa cken den ▁match ▁bis ▁zur ▁00. ▁minute ▁rasch , ▁der ▁fünf platz ierte ▁k ac ▁verk ürzte ▁noch ▁zwei ▁mal ▁den ▁rück stand , ▁der ▁ausgleich ▁gelang ▁aber ▁nicht . ▁die ▁00 ers ▁hatten ▁in ▁den ▁bisherigen ▁du ellen ▁zwei ▁o vert ime - er folge ▁über ▁fe her var ▁gefeiert , ▁im ▁dritten ▁vergleich ▁erw isch ten ▁sie ▁einen ▁schwarzen ▁freitag . ▁schon ▁nach ▁00 ▁sekunden ▁in ▁rück stand ▁geraten , ▁schöpf ten ▁die ▁ste ir er ▁dank ▁des ▁0:0 ▁durch ▁wo ger ▁(00. ) ▁hoffnung , ▁doch ▁die ▁währ te ▁nur ▁kurz . ▁ban ham ▁stellte ▁mit ▁seinem ▁zweiten ▁tor ▁nur ▁drei ▁minuten ▁später ▁den ▁alten ▁abstand ▁wieder ▁her . ▁in ▁der ▁folge ▁sch ossen ▁die ▁ungarn ▁noch ▁einen ▁kl aren ▁erfolg ▁heraus . ▁dabei ▁hatten ▁die ▁gastgeber ▁bei ▁den ▁sch üssen ▁in ▁den ▁ersten ▁zwei ▁drittel n ▁mit ▁00:00 ▁ein ▁deutlich es ▁über gewicht . ▁die ▁position ▁des ▁v sv ▁hat ▁sich ▁trotz ▁des ▁engagements ▁des ▁ex - meister mach ers ▁greg ▁hol st ▁verschlechter t . ▁beim ▁hc ▁süd irol ▁gerieten ▁die ▁vill acher ▁vor ▁allem ▁im ▁zweiten ▁und ▁dritten ▁abschnitt ▁arg ▁in ▁be dr ängnis , ▁verhin derten ▁aber ▁vorerst ▁einen ▁gegen tre ffer . ▁erst ▁im ▁pen alt y schießen ▁zogen ▁die ▁vill acher ▁den ▁kürzer en ▁( mc mon ag le ▁traf ) ▁und ▁haben ▁als ▁zehn te ▁der ▁zwöl fer liga ▁schon ▁zehn ▁z ähler ▁rück stand ▁auf ▁die ▁sech st platzierten ▁bozen er . ▁( apa , ▁00. 00. ▁0000) ▁ergebnisse , ▁00. ▁runde : ▁hc ▁innsbruck er ▁ha ie ▁- ▁k ac ▁0:0 ▁(0:0 ,0 :0 ,0 :0 ). ▁olympia world , ▁0.000 . ▁tore : ▁schr amm ▁(0 ., ▁00. ), ▁hahn ▁(0 ., ▁00. ), ▁schaus ▁(00. , ▁00. ) ▁bzw . ▁hundert pf und ▁(00. , ▁00. ), ▁har and ▁(00. ), ▁g eier ▁(00. / pp ), ▁walker ▁(00. ). ▁straf minuten : ▁je ▁0. ▁dorn bir ner ▁ec ▁- ▁red ▁bull ▁salzburg ▁0:0 ▁(0:0 ,0 :0 ,0 :0 ). ▁mess est ad ion , ▁0.000 . ▁tore : ▁mack enz ie ▁(0. / pp ), ▁da vers a ▁(00. ), ▁living ston ▁(00. / pp ), ▁arn iel ▁(00. ). ▁straf minuten : ▁je ▁00 ▁eh c ▁black ▁wings ▁linz ▁- ▁vienna ▁capit als ▁0:0 ▁(0:0 ,0 :0 ,0 :0 ). ▁keine - s orgen - eis arena , ▁0.000 . ▁tore : ▁ho fer ▁(00. ), ▁mc le an ▁(00. ) ▁bzw . ▁gam ache ▁(0. ). ▁straf minuten : ▁00 ▁bzw . ▁00. ▁graz ▁00 ers ▁- ▁av ▁fe her var ▁0:0 ▁(0:0 ,0 :0 ,0 :0 ). ▁lieben au , ▁0.000 . ▁tore : ▁wo ger ▁(00. , ▁00. ) ▁bzw . ▁francis ▁(0. ), ▁ban ham ▁(00. , ▁00. ), ▁conn oll y ▁(00. ), ▁sz ir any i ▁(00. ). ▁straf minuten : ▁00 ▁bzw . ▁0. ▁ol im pi ja ▁lj ubl jana ▁- ▁z no j mo ▁0:0 ▁(0:0 ,0 :0 ,0 : 0) </s>,<s> ▁im ▁es sl - museum ▁präsentiert ▁man ▁die ▁poten z ▁der ▁kolle ktion : ▁unter ▁dem ▁titel ▁\" deutsche ▁kunst ▁nach ▁0000 \", ▁einem ▁schwerpunkt ▁der ▁sammlung ▁seit ▁0000, ▁bietet ▁man ▁ein ▁bun tes ▁port fol io ▁großer ▁namen . ▁kloster neuburg ▁- ▁deutsche ▁kunst ▁nach ▁0000. ▁noch ▁bevor ▁einem ▁dieser ▁ausstellung stitel , ▁der ▁so ▁nach ▁au ktion s haus - kategorie ▁schr eit , ▁nach ▁modern ▁and ▁contemporary ▁chin ese ▁art , ▁nach ▁swiss ▁art , ▁latin ▁american ▁art ▁oder ▁gar ▁ma de ▁in ▁brit ain , ▁auf ▁der ▁z unge ▁zer geht , ▁da ▁kn öd elt ▁der ▁teufel ▁hinter ▁der ▁rechten ▁schulter ▁bereits ▁von ▁der ▁te utschen ▁kunst ▁und ▁sp u ckt ▁dabei ▁in ▁seiner ▁d - d - d - onn ern den ▁aus ru fe zeichen sprache . ▁frei lich ▁war ▁im ▁es sl - museum ▁nicht ▁mit ▁einer ▁schau ▁zu ▁den ▁te utschen ▁tu genden ▁zu ▁rechnen ▁- ▁trotzdem ▁macht ▁es ▁einen ▁unterschied , ▁ob ▁man ▁das ▁et ik ett ▁deutsche ▁kunst ▁oder ▁kunst ▁aus ▁deutschland ▁dr auf p ickt , ▁die ▁region ▁über ▁etwa ige ▁charakter ist ika ▁stellt . ▁weil ▁- ▁wie ▁die ▁presse ▁zuletzt ▁sehr ▁richtig ▁fra gte : ▁kann ▁kunst ▁deutsch ▁sein ? ▁kann ▁sie ▁nicht . ▁und ▁insbesondere : ▁soll ▁sie ▁nicht . ▁vom ▁wieder k äu en ▁national staat licher ▁kl ische es ▁einmal ▁abgesehen , ▁ist ▁es ▁doch ▁gerade ▁die ▁kunst , ▁die ▁diese ▁begrenzt heiten ▁im ▁denken ▁immer ▁wieder ▁mit ▁auf r ühr er ischen ▁ges ten ▁übersch reitet . ▁markus ▁lü per tz ▁hatte ▁sich ▁ja ▁an ▁den ▁stahl hel men , ▁den ▁wald -, ▁blut - und - boden - mot iven ▁und ▁der ▁entsprechend ▁erd igen ▁farb pal ette ▁sat irisch ▁abge arbeitet , ▁den ▁finger ▁in ▁nie ▁ge heil te ▁w unden ▁gelegt . ▁und ▁jetzt ▁also ▁kategorie ▁deutsch ? ▁diese ▁sekundär markt - att it ü de ▁der ▁ver wert barkeit ▁hatte ▁zuletzt ▁die ▁schau ▁ma de ▁in ▁austria ▁0000. ▁wir ▁erinnern ▁uns : ▁das ▁war ▁nur ▁wenige ▁wochen , ▁bevor ▁sammler ▁karl heinz ▁es sl ▁der ▁republik ▁den ▁großen ▁b ausch - und - bogen - verkauf ▁seiner ▁kolle ktion ▁an bot ▁- ▁und ▁einen ▁korb ▁bekam . ▁er ▁serv ierte ▁damals ▁eine ▁komp akte ▁österreichische ▁kunstgeschichte , ▁mit ▁allem , ▁was ▁rang ▁und ▁namen ▁hat : ▁etwa ▁hundert wasser , ▁lass nig , ▁n itsch , ▁rainer , ▁wurm . ▁die ▁jetz ige ▁deutsch - ausgabe ▁ist ▁da ▁ähnlich ▁populär ▁- ▁und ▁teuer : ▁von ▁georg ▁basel itz ▁und ▁markus ▁lü per tz ▁über ▁jörg ▁immen dorff , ▁a . ▁r . ▁pen ck , ▁ansel m ▁kiefer ▁bis ▁zu ▁gerhard ▁richter , ▁neo ▁rauch , ▁jonathan ▁me ese . ▁dass ▁es sl ▁den ▁katalog ▁zu ▁seiner , ▁zitat , ▁ful min anten ▁schau ▁an ▁weltweit ▁000 ▁museen ▁versch ickt ▁hat , ▁ist ▁dabei ▁nicht ▁nur ▁eine ▁n ette ▁geste . ▁solche ▁geschen ke ▁n ähren ▁den ▁port fol io - verd acht : ▁ist ▁das ▁gut ▁000 ▁seiten ▁starke ▁geschenk ▁doch ▁eine ▁n ette ▁bro sch üre ▁zum ▁aus suchen ▁einer ▁hüb schen ▁leih gabe . ▁oben dr ein ▁schr aubt ▁jede ▁mus e ale ▁präsentation ▁nicht ▁nur ▁am ▁wert ▁der ▁künstler , ▁sondern ▁auch ▁an ▁jenem ▁der ▁präsent ierten ▁kolle ktionen ▁selbst . ▁deswegen ▁sind ▁ja ▁die ▁nahe verhältnisse ▁zwischen ▁galerie betrieb ▁und ▁museen ▁so ▁per f ide . ▁deutsche ▁kunst ▁nach ▁0000 ▁ist ▁also ▁ein ▁durch schau barer ▁titel . ▁dabei ▁hätte ▁es ▁so ▁viel ▁andere ▁passen de ▁gegeben : ▁etwa ▁poten z ▁mit ▁dem ▁p insel , ▁genie ▁ist ▁männ lich , ▁deutschland , ▁wo ▁sind ▁d eine ▁frauen ? ▁oder ▁kunst ▁ist ▁malerei ▁und ▁sonst ▁nichts ▁- ▁letzterer ▁aber ▁nur ▁mit ▁dem ▁zusatz : ▁es ▁sei ▁denn , ▁maler ▁sch ufen ▁drei di mens ional . ▁denn ▁das , ▁was ▁hier ▁auf ▁zwei ▁ebenen ▁des ▁museums ▁recht ▁spannungs frei ▁aneinander ger ei ht ▁wurde , ▁ist ▁leinwand ware ▁( aus nahmen ▁unter ▁den ▁00 ▁werken ▁von ▁mehr ▁als ▁00 ▁künstlern : ▁arbeiten ▁von ▁bildhauer ▁tobias ▁reh berger ▁und ▁material mont agen ▁von ▁dieter ▁roth ). ▁oder ▁es ▁wurde ▁von ▁gen ial ischer ▁maler hand ▁geschaffen : ▁wie ▁bei ▁immen dorff , ▁me ese ▁und ▁lü per tz ▁- ▁für ▁letzteren ▁ist ▁skulptur ▁ja ▁überhaupt ▁drei dimension ale ▁malerei . ▁auch ▁als ▁spiegel ▁deutscher ▁geschichte ▁- ▁was ▁das ▁deutsch ▁im ▁titel ▁auch ▁recht fertigen ▁würde ▁- ▁funktioniert ▁die ▁schau ▁nicht . ▁trotz ▁der ▁tot alen ▁kunst ▁in ▁der ▁brach ialen ▁maler eid ikt atur ▁me es es ▁oder ▁der ▁mythen - ▁und ▁blei - bel as teten ▁werke ▁k ief ers ▁oder ▁der ▁in ▁den ▁motiven ▁der ▁aufklärung ▁kr usch eln den ▁bilder ▁neo ▁rau chs . ▁eine ▁o de ▁an ▁mann sb ilder ▁der ▁malerei ▁und ▁ihre ▁nicht ▁immer ▁besten ▁arbeiten , ▁das ▁ist ▁es . </s>\n",
       "y: LMLabelList\n",
       ",,,,\n",
       "Path: uf_de_exp;\n",
       "\n",
       "Test: None, model=SequentialRNN(\n",
       "  (0): AWD_LSTM(\n",
       "    (encoder): Embedding(25001, 400, padding_idx=1)\n",
       "    (encoder_dp): EmbeddingDropout(\n",
       "      (emb): Embedding(25001, 400, padding_idx=1)\n",
       "    )\n",
       "    (rnns): ModuleList(\n",
       "      (0): WeightDropout(\n",
       "        (module): LSTM(400, 1150, batch_first=True)\n",
       "      )\n",
       "      (1): WeightDropout(\n",
       "        (module): LSTM(1150, 1150, batch_first=True)\n",
       "      )\n",
       "      (2): WeightDropout(\n",
       "        (module): LSTM(1150, 400, batch_first=True)\n",
       "      )\n",
       "    )\n",
       "    (input_dp): RNNDropout()\n",
       "    (hidden_dps): ModuleList(\n",
       "      (0): RNNDropout()\n",
       "      (1): RNNDropout()\n",
       "      (2): RNNDropout()\n",
       "    )\n",
       "  )\n",
       "  (1): LinearDecoder(\n",
       "    (decoder): Linear(in_features=400, out_features=25001, bias=True)\n",
       "    (output_dp): RNNDropout()\n",
       "  )\n",
       "), opt_func=functools.partial(<class 'torch.optim.adam.Adam'>, betas=(0.9, 0.99)), loss_func=FlattenedLoss of CrossEntropyLoss(), metrics=[<function accuracy at 0x7f4fec645d90>], true_wd=True, bn_wd=True, wd=0.01, train_bn=True, path=PosixPath('uf_de_exp'), model_dir='models', callback_fns=[functools.partial(<class 'fastai.basic_train.Recorder'>, add_time=True)], callbacks=[RNNTrainer\n",
       "learn: ...\n",
       "alpha: 2.0\n",
       "beta: 1.0], layer_groups=[Sequential(\n",
       "  (0): WeightDropout(\n",
       "    (module): LSTM(400, 1150, batch_first=True)\n",
       "  )\n",
       "  (1): RNNDropout()\n",
       "), Sequential(\n",
       "  (0): WeightDropout(\n",
       "    (module): LSTM(1150, 1150, batch_first=True)\n",
       "  )\n",
       "  (1): RNNDropout()\n",
       "), Sequential(\n",
       "  (0): WeightDropout(\n",
       "    (module): LSTM(1150, 400, batch_first=True)\n",
       "  )\n",
       "  (1): RNNDropout()\n",
       "), Sequential(\n",
       "  (0): Embedding(25001, 400, padding_idx=1)\n",
       "  (1): EmbeddingDropout(\n",
       "    (emb): Embedding(25001, 400, padding_idx=1)\n",
       "  )\n",
       "  (2): LinearDecoder(\n",
       "    (decoder): Linear(in_features=400, out_features=25001, bias=True)\n",
       "    (output_dp): RNNDropout()\n",
       "  )\n",
       ")], add_time=True)"
      ]
     },
     "execution_count": 31,
     "metadata": {},
     "output_type": "execute_result"
    }
   ],
   "source": [
    "learn_lm = language_model_learner(data_lm, AWD_LSTM, drop_mult=0.5)\n",
    "learn_lm.load('/mnt/data/group07/johannes/germanlm/exp_10/models/2019_ 4_14_20_48_17_552279')"
   ]
  },
  {
   "cell_type": "code",
   "execution_count": 32,
   "metadata": {
    "ExecuteTime": {
     "end_time": "2019-04-26T14:37:56.295123Z",
     "start_time": "2019-04-26T14:35:56.910296Z"
    }
   },
   "outputs": [
    {
     "data": {
      "text/html": [
       "<table border=\"1\" class=\"dataframe\">\n",
       "  <thead>\n",
       "    <tr style=\"text-align: left;\">\n",
       "      <th>epoch</th>\n",
       "      <th>train_loss</th>\n",
       "      <th>valid_loss</th>\n",
       "      <th>accuracy</th>\n",
       "      <th>time</th>\n",
       "    </tr>\n",
       "  </thead>\n",
       "  <tbody>\n",
       "    <tr>\n",
       "      <td>0</td>\n",
       "      <td>4.318447</td>\n",
       "      <td>3.778145</td>\n",
       "      <td>0.325662</td>\n",
       "      <td>01:59</td>\n",
       "    </tr>\n",
       "  </tbody>\n",
       "</table>"
      ],
      "text/plain": [
       "<IPython.core.display.HTML object>"
      ]
     },
     "metadata": {},
     "output_type": "display_data"
    }
   ],
   "source": [
    "learn_lm.fit_one_cycle(1, 1e-2, moms=(0.8,0.7))"
   ]
  },
  {
   "cell_type": "code",
   "execution_count": 33,
   "metadata": {
    "ExecuteTime": {
     "end_time": "2019-04-26T14:56:59.239652Z",
     "start_time": "2019-04-26T14:37:56.296298Z"
    }
   },
   "outputs": [
    {
     "data": {
      "text/html": [
       "<table border=\"1\" class=\"dataframe\">\n",
       "  <thead>\n",
       "    <tr style=\"text-align: left;\">\n",
       "      <th>epoch</th>\n",
       "      <th>train_loss</th>\n",
       "      <th>valid_loss</th>\n",
       "      <th>accuracy</th>\n",
       "      <th>time</th>\n",
       "    </tr>\n",
       "  </thead>\n",
       "  <tbody>\n",
       "    <tr>\n",
       "      <td>0</td>\n",
       "      <td>4.119852</td>\n",
       "      <td>3.757536</td>\n",
       "      <td>0.328551</td>\n",
       "      <td>02:22</td>\n",
       "    </tr>\n",
       "    <tr>\n",
       "      <td>1</td>\n",
       "      <td>4.008326</td>\n",
       "      <td>3.735962</td>\n",
       "      <td>0.331885</td>\n",
       "      <td>02:23</td>\n",
       "    </tr>\n",
       "    <tr>\n",
       "      <td>2</td>\n",
       "      <td>3.932220</td>\n",
       "      <td>3.717673</td>\n",
       "      <td>0.334252</td>\n",
       "      <td>02:23</td>\n",
       "    </tr>\n",
       "    <tr>\n",
       "      <td>3</td>\n",
       "      <td>3.836060</td>\n",
       "      <td>3.705034</td>\n",
       "      <td>0.336779</td>\n",
       "      <td>02:22</td>\n",
       "    </tr>\n",
       "    <tr>\n",
       "      <td>4</td>\n",
       "      <td>3.772302</td>\n",
       "      <td>3.694369</td>\n",
       "      <td>0.337968</td>\n",
       "      <td>02:22</td>\n",
       "    </tr>\n",
       "    <tr>\n",
       "      <td>5</td>\n",
       "      <td>3.698188</td>\n",
       "      <td>3.685352</td>\n",
       "      <td>0.339441</td>\n",
       "      <td>02:22</td>\n",
       "    </tr>\n",
       "    <tr>\n",
       "      <td>6</td>\n",
       "      <td>3.656193</td>\n",
       "      <td>3.682763</td>\n",
       "      <td>0.339979</td>\n",
       "      <td>02:22</td>\n",
       "    </tr>\n",
       "    <tr>\n",
       "      <td>7</td>\n",
       "      <td>3.613890</td>\n",
       "      <td>3.682475</td>\n",
       "      <td>0.340089</td>\n",
       "      <td>02:22</td>\n",
       "    </tr>\n",
       "  </tbody>\n",
       "</table>"
      ],
      "text/plain": [
       "<IPython.core.display.HTML object>"
      ]
     },
     "metadata": {},
     "output_type": "display_data"
    }
   ],
   "source": [
    "learn_lm.unfreeze()\n",
    "learn_lm.fit_one_cycle(8, 1e-3, moms=(0.8,0.7))"
   ]
  },
  {
   "cell_type": "code",
   "execution_count": 34,
   "metadata": {
    "ExecuteTime": {
     "end_time": "2019-04-26T14:57:05.479069Z",
     "start_time": "2019-04-26T14:57:05.329047Z"
    }
   },
   "outputs": [],
   "source": [
    "learn_lm.save_encoder('enc')"
   ]
  },
  {
   "cell_type": "code",
   "execution_count": 3,
   "metadata": {
    "ExecuteTime": {
     "end_time": "2019-04-27T12:03:30.908570Z",
     "start_time": "2019-04-27T12:03:28.719679Z"
    }
   },
   "outputs": [
    {
     "name": "stderr",
     "output_type": "stream",
     "text": [
      "/home/group7/anaconda3/envs/de/lib/python3.7/site-packages/ipykernel_launcher.py:3: SettingWithCopyWarning: \n",
      "A value is trying to be set on a copy of a slice from a DataFrame.\n",
      "Try using .loc[row_indexer,col_indexer] = value instead\n",
      "\n",
      "See the caveats in the documentation: http://pandas.pydata.org/pandas-docs/stable/indexing.html#indexing-view-versus-copy\n",
      "  This is separate from the ipykernel package so we can avoid doing imports until\n"
     ]
    }
   ],
   "source": [
    "classes = df_train['label'].unique().tolist()\n",
    "for dfx in [df_train, df_valid, df_test]:\n",
    "    dfx['label'] = dfx['label'].apply(lambda x: classes.index(x))\n",
    "\n",
    "# NB: set the corrext padding idx\n",
    "data_train = TextClasDataBunch.from_ids('uf_de_exp', pad_idx=25000, classes=classes, bs=32, vocab=voc, train_lbls=df_train['label'], train_ids=df_train['text'], valid_ids=df_valid['text'], valid_lbls=df_valid['label'])\n",
    "\n",
    "# store the test dataset within another TextClasDataBunch\n",
    "data_test = TextClasDataBunch.from_ids('uf_de_exp', pad_idx=25000, classes=classes, bs=32, vocab=voc, train_lbls=df_train['label'], train_ids=df_train['text'], valid_ids=df_test['text'], valid_lbls=df_test['label'])"
   ]
  },
  {
   "cell_type": "code",
   "execution_count": 4,
   "metadata": {
    "ExecuteTime": {
     "end_time": "2019-04-27T12:03:36.334685Z",
     "start_time": "2019-04-27T12:03:30.910463Z"
    }
   },
   "outputs": [],
   "source": [
    "learn = text_classifier_learner(data_train, AWD_LSTM, drop_mult=0.5)\n",
    "learn.load_encoder('enc', device='cuda:2')"
   ]
  },
  {
   "cell_type": "code",
   "execution_count": 5,
   "metadata": {
    "ExecuteTime": {
     "end_time": "2019-04-27T12:03:36.338735Z",
     "start_time": "2019-04-27T12:03:36.336314Z"
    }
   },
   "outputs": [],
   "source": [
    "factor = 2.6\n",
    "lr = 4e-3\n",
    "lrs = [lr / (factor ** (4 - x)) for x in range(4)] + [lr]"
   ]
  },
  {
   "cell_type": "code",
   "execution_count": 6,
   "metadata": {
    "ExecuteTime": {
     "end_time": "2019-04-27T12:05:15.045803Z",
     "start_time": "2019-04-27T12:03:36.339676Z"
    }
   },
   "outputs": [
    {
     "data": {
      "text/html": [
       "<table border=\"1\" class=\"dataframe\">\n",
       "  <thead>\n",
       "    <tr style=\"text-align: left;\">\n",
       "      <th>epoch</th>\n",
       "      <th>train_loss</th>\n",
       "      <th>valid_loss</th>\n",
       "      <th>accuracy</th>\n",
       "      <th>time</th>\n",
       "    </tr>\n",
       "  </thead>\n",
       "  <tbody>\n",
       "    <tr>\n",
       "      <td>0</td>\n",
       "      <td>0.907762</td>\n",
       "      <td>0.482308</td>\n",
       "      <td>0.825000</td>\n",
       "      <td>01:38</td>\n",
       "    </tr>\n",
       "  </tbody>\n",
       "</table>"
      ],
      "text/plain": [
       "<IPython.core.display.HTML object>"
      ]
     },
     "metadata": {},
     "output_type": "display_data"
    }
   ],
   "source": [
    "learn.fit(1, lrs)"
   ]
  },
  {
   "cell_type": "code",
   "execution_count": 7,
   "metadata": {
    "ExecuteTime": {
     "end_time": "2019-04-27T12:07:13.306219Z",
     "start_time": "2019-04-27T12:05:15.047167Z"
    }
   },
   "outputs": [
    {
     "data": {
      "text/html": [
       "<table border=\"1\" class=\"dataframe\">\n",
       "  <thead>\n",
       "    <tr style=\"text-align: left;\">\n",
       "      <th>epoch</th>\n",
       "      <th>train_loss</th>\n",
       "      <th>valid_loss</th>\n",
       "      <th>accuracy</th>\n",
       "      <th>time</th>\n",
       "    </tr>\n",
       "  </thead>\n",
       "  <tbody>\n",
       "    <tr>\n",
       "      <td>0</td>\n",
       "      <td>0.728629</td>\n",
       "      <td>0.407739</td>\n",
       "      <td>0.856000</td>\n",
       "      <td>01:58</td>\n",
       "    </tr>\n",
       "  </tbody>\n",
       "</table>"
      ],
      "text/plain": [
       "<IPython.core.display.HTML object>"
      ]
     },
     "metadata": {},
     "output_type": "display_data"
    }
   ],
   "source": [
    "learn.freeze_to(-2)\n",
    "learn.fit(1, lrs)"
   ]
  },
  {
   "cell_type": "code",
   "execution_count": 8,
   "metadata": {
    "ExecuteTime": {
     "end_time": "2019-04-27T12:07:13.311689Z",
     "start_time": "2019-04-27T12:07:13.308240Z"
    }
   },
   "outputs": [],
   "source": [
    "learn.callbacks += [\n",
    "    SaveModelCallback(learn, name='best', monitor='accuracy'),\n",
    "    EarlyStoppingCallback(learn, monitor='accuracy', patience=10),\n",
    "]"
   ]
  },
  {
   "cell_type": "code",
   "execution_count": 9,
   "metadata": {
    "ExecuteTime": {
     "end_time": "2019-04-27T14:22:42.328086Z",
     "start_time": "2019-04-27T12:07:13.313643Z"
    }
   },
   "outputs": [
    {
     "data": {
      "text/html": [
       "\n",
       "    <div>\n",
       "        <style>\n",
       "            /* Turns off some styling */\n",
       "            progress {\n",
       "                /* gets rid of default border in Firefox and Opera. */\n",
       "                border: none;\n",
       "                /* Needs to be in here for Safari polyfill so background images work as expected. */\n",
       "                background-size: auto;\n",
       "            }\n",
       "            .progress-bar-interrupted, .progress-bar-interrupted::-webkit-progress-bar {\n",
       "                background: #F44336;\n",
       "            }\n",
       "        </style>\n",
       "      <progress value='35' class='' max='100', style='width:300px; height:20px; vertical-align: middle;'></progress>\n",
       "      35.00% [35/100 2:11:41<4:04:33]\n",
       "    </div>\n",
       "    \n",
       "<table border=\"1\" class=\"dataframe\">\n",
       "  <thead>\n",
       "    <tr style=\"text-align: left;\">\n",
       "      <th>epoch</th>\n",
       "      <th>train_loss</th>\n",
       "      <th>valid_loss</th>\n",
       "      <th>accuracy</th>\n",
       "      <th>time</th>\n",
       "    </tr>\n",
       "  </thead>\n",
       "  <tbody>\n",
       "    <tr>\n",
       "      <td>0</td>\n",
       "      <td>0.598921</td>\n",
       "      <td>0.433241</td>\n",
       "      <td>0.851000</td>\n",
       "      <td>03:42</td>\n",
       "    </tr>\n",
       "    <tr>\n",
       "      <td>1</td>\n",
       "      <td>0.561212</td>\n",
       "      <td>0.394498</td>\n",
       "      <td>0.853000</td>\n",
       "      <td>03:40</td>\n",
       "    </tr>\n",
       "    <tr>\n",
       "      <td>2</td>\n",
       "      <td>0.507523</td>\n",
       "      <td>0.367141</td>\n",
       "      <td>0.876000</td>\n",
       "      <td>03:34</td>\n",
       "    </tr>\n",
       "    <tr>\n",
       "      <td>3</td>\n",
       "      <td>0.479151</td>\n",
       "      <td>0.362641</td>\n",
       "      <td>0.877000</td>\n",
       "      <td>03:41</td>\n",
       "    </tr>\n",
       "    <tr>\n",
       "      <td>4</td>\n",
       "      <td>0.506904</td>\n",
       "      <td>0.359822</td>\n",
       "      <td>0.874000</td>\n",
       "      <td>03:51</td>\n",
       "    </tr>\n",
       "    <tr>\n",
       "      <td>5</td>\n",
       "      <td>0.511931</td>\n",
       "      <td>0.344190</td>\n",
       "      <td>0.874000</td>\n",
       "      <td>03:36</td>\n",
       "    </tr>\n",
       "    <tr>\n",
       "      <td>6</td>\n",
       "      <td>0.499650</td>\n",
       "      <td>0.378157</td>\n",
       "      <td>0.867000</td>\n",
       "      <td>04:00</td>\n",
       "    </tr>\n",
       "    <tr>\n",
       "      <td>7</td>\n",
       "      <td>0.483655</td>\n",
       "      <td>0.340493</td>\n",
       "      <td>0.884000</td>\n",
       "      <td>04:00</td>\n",
       "    </tr>\n",
       "    <tr>\n",
       "      <td>8</td>\n",
       "      <td>0.465735</td>\n",
       "      <td>0.341785</td>\n",
       "      <td>0.885000</td>\n",
       "      <td>03:59</td>\n",
       "    </tr>\n",
       "    <tr>\n",
       "      <td>9</td>\n",
       "      <td>0.411083</td>\n",
       "      <td>0.344238</td>\n",
       "      <td>0.872000</td>\n",
       "      <td>03:49</td>\n",
       "    </tr>\n",
       "    <tr>\n",
       "      <td>10</td>\n",
       "      <td>0.405268</td>\n",
       "      <td>0.330200</td>\n",
       "      <td>0.881000</td>\n",
       "      <td>04:01</td>\n",
       "    </tr>\n",
       "    <tr>\n",
       "      <td>11</td>\n",
       "      <td>0.387525</td>\n",
       "      <td>0.324776</td>\n",
       "      <td>0.887000</td>\n",
       "      <td>03:41</td>\n",
       "    </tr>\n",
       "    <tr>\n",
       "      <td>12</td>\n",
       "      <td>0.357163</td>\n",
       "      <td>0.323075</td>\n",
       "      <td>0.881000</td>\n",
       "      <td>03:34</td>\n",
       "    </tr>\n",
       "    <tr>\n",
       "      <td>13</td>\n",
       "      <td>0.315541</td>\n",
       "      <td>0.315010</td>\n",
       "      <td>0.888000</td>\n",
       "      <td>03:37</td>\n",
       "    </tr>\n",
       "    <tr>\n",
       "      <td>14</td>\n",
       "      <td>0.312934</td>\n",
       "      <td>0.389866</td>\n",
       "      <td>0.881000</td>\n",
       "      <td>03:33</td>\n",
       "    </tr>\n",
       "    <tr>\n",
       "      <td>15</td>\n",
       "      <td>0.265859</td>\n",
       "      <td>0.325197</td>\n",
       "      <td>0.896000</td>\n",
       "      <td>03:45</td>\n",
       "    </tr>\n",
       "    <tr>\n",
       "      <td>16</td>\n",
       "      <td>0.252305</td>\n",
       "      <td>0.350412</td>\n",
       "      <td>0.893000</td>\n",
       "      <td>03:46</td>\n",
       "    </tr>\n",
       "    <tr>\n",
       "      <td>17</td>\n",
       "      <td>0.223524</td>\n",
       "      <td>0.392078</td>\n",
       "      <td>0.876000</td>\n",
       "      <td>03:54</td>\n",
       "    </tr>\n",
       "    <tr>\n",
       "      <td>18</td>\n",
       "      <td>0.221652</td>\n",
       "      <td>0.409031</td>\n",
       "      <td>0.882000</td>\n",
       "      <td>03:40</td>\n",
       "    </tr>\n",
       "    <tr>\n",
       "      <td>19</td>\n",
       "      <td>0.169509</td>\n",
       "      <td>0.402741</td>\n",
       "      <td>0.879000</td>\n",
       "      <td>03:32</td>\n",
       "    </tr>\n",
       "    <tr>\n",
       "      <td>20</td>\n",
       "      <td>0.187455</td>\n",
       "      <td>0.453042</td>\n",
       "      <td>0.881000</td>\n",
       "      <td>03:40</td>\n",
       "    </tr>\n",
       "    <tr>\n",
       "      <td>21</td>\n",
       "      <td>0.160420</td>\n",
       "      <td>0.420412</td>\n",
       "      <td>0.890000</td>\n",
       "      <td>04:00</td>\n",
       "    </tr>\n",
       "    <tr>\n",
       "      <td>22</td>\n",
       "      <td>0.152286</td>\n",
       "      <td>0.394784</td>\n",
       "      <td>0.897000</td>\n",
       "      <td>03:54</td>\n",
       "    </tr>\n",
       "    <tr>\n",
       "      <td>23</td>\n",
       "      <td>0.154571</td>\n",
       "      <td>0.425526</td>\n",
       "      <td>0.886000</td>\n",
       "      <td>04:00</td>\n",
       "    </tr>\n",
       "    <tr>\n",
       "      <td>24</td>\n",
       "      <td>0.110105</td>\n",
       "      <td>0.388894</td>\n",
       "      <td>0.910000</td>\n",
       "      <td>03:46</td>\n",
       "    </tr>\n",
       "    <tr>\n",
       "      <td>25</td>\n",
       "      <td>0.102826</td>\n",
       "      <td>0.455297</td>\n",
       "      <td>0.889000</td>\n",
       "      <td>03:39</td>\n",
       "    </tr>\n",
       "    <tr>\n",
       "      <td>26</td>\n",
       "      <td>0.113524</td>\n",
       "      <td>0.410022</td>\n",
       "      <td>0.899000</td>\n",
       "      <td>03:31</td>\n",
       "    </tr>\n",
       "    <tr>\n",
       "      <td>27</td>\n",
       "      <td>0.087385</td>\n",
       "      <td>0.417504</td>\n",
       "      <td>0.890000</td>\n",
       "      <td>03:40</td>\n",
       "    </tr>\n",
       "    <tr>\n",
       "      <td>28</td>\n",
       "      <td>0.073688</td>\n",
       "      <td>0.447337</td>\n",
       "      <td>0.892000</td>\n",
       "      <td>03:37</td>\n",
       "    </tr>\n",
       "    <tr>\n",
       "      <td>29</td>\n",
       "      <td>0.076600</td>\n",
       "      <td>0.496380</td>\n",
       "      <td>0.881000</td>\n",
       "      <td>03:40</td>\n",
       "    </tr>\n",
       "    <tr>\n",
       "      <td>30</td>\n",
       "      <td>0.076708</td>\n",
       "      <td>0.452897</td>\n",
       "      <td>0.896000</td>\n",
       "      <td>03:39</td>\n",
       "    </tr>\n",
       "    <tr>\n",
       "      <td>31</td>\n",
       "      <td>0.089809</td>\n",
       "      <td>0.503362</td>\n",
       "      <td>0.894000</td>\n",
       "      <td>03:50</td>\n",
       "    </tr>\n",
       "    <tr>\n",
       "      <td>32</td>\n",
       "      <td>0.067246</td>\n",
       "      <td>0.540570</td>\n",
       "      <td>0.886000</td>\n",
       "      <td>04:00</td>\n",
       "    </tr>\n",
       "    <tr>\n",
       "      <td>33</td>\n",
       "      <td>0.074255</td>\n",
       "      <td>0.501228</td>\n",
       "      <td>0.888000</td>\n",
       "      <td>03:38</td>\n",
       "    </tr>\n",
       "    <tr>\n",
       "      <td>34</td>\n",
       "      <td>0.066787</td>\n",
       "      <td>0.533349</td>\n",
       "      <td>0.883000</td>\n",
       "      <td>03:40</td>\n",
       "    </tr>\n",
       "  </tbody>\n",
       "</table><p>\n",
       "\n",
       "    <div>\n",
       "        <style>\n",
       "            /* Turns off some styling */\n",
       "            progress {\n",
       "                /* gets rid of default border in Firefox and Opera. */\n",
       "                border: none;\n",
       "                /* Needs to be in here for Safari polyfill so background images work as expected. */\n",
       "                background-size: auto;\n",
       "            }\n",
       "            .progress-bar-interrupted, .progress-bar-interrupted::-webkit-progress-bar {\n",
       "                background: #F44336;\n",
       "            }\n",
       "        </style>\n",
       "      <progress value='32' class='' max='32', style='width:300px; height:20px; vertical-align: middle;'></progress>\n",
       "      100.00% [32/32 00:08<00:00]\n",
       "    </div>\n",
       "    "
      ],
      "text/plain": [
       "<IPython.core.display.HTML object>"
      ]
     },
     "metadata": {},
     "output_type": "display_data"
    },
    {
     "name": "stdout",
     "output_type": "stream",
     "text": [
      "Better model found at epoch 0 with accuracy value: 0.8510000109672546.\n",
      "Better model found at epoch 1 with accuracy value: 0.8529999852180481.\n",
      "Better model found at epoch 2 with accuracy value: 0.8759999871253967.\n",
      "Better model found at epoch 3 with accuracy value: 0.8769999742507935.\n",
      "Better model found at epoch 7 with accuracy value: 0.8840000033378601.\n",
      "Better model found at epoch 8 with accuracy value: 0.8849999904632568.\n",
      "Better model found at epoch 11 with accuracy value: 0.8870000243186951.\n",
      "Better model found at epoch 13 with accuracy value: 0.8880000114440918.\n",
      "Better model found at epoch 15 with accuracy value: 0.8960000276565552.\n",
      "Better model found at epoch 22 with accuracy value: 0.8970000147819519.\n",
      "Better model found at epoch 24 with accuracy value: 0.9100000262260437.\n",
      "Epoch 35: early stopping\n"
     ]
    }
   ],
   "source": [
    "learn.unfreeze()\n",
    "learn.fit(100, lrs)"
   ]
  },
  {
   "cell_type": "code",
   "execution_count": 13,
   "metadata": {
    "ExecuteTime": {
     "end_time": "2019-04-27T14:26:05.817263Z",
     "start_time": "2019-04-27T14:25:55.742136Z"
    }
   },
   "outputs": [
    {
     "name": "stdout",
     "output_type": "stream",
     "text": [
      "Epoch 0: early stopping\n"
     ]
    },
    {
     "data": {
      "text/plain": [
       "[0.48844776, tensor(0.8833)]"
      ]
     },
     "execution_count": 13,
     "metadata": {},
     "output_type": "execute_result"
    }
   ],
   "source": [
    "learn.validate(data_test.valid_dl)"
   ]
  },
  {
   "cell_type": "code",
   "execution_count": null,
   "metadata": {},
   "outputs": [],
   "source": []
  },
  {
   "cell_type": "code",
   "execution_count": null,
   "metadata": {},
   "outputs": [],
   "source": []
  }
 ],
 "metadata": {
  "kernelspec": {
   "display_name": "Python 3",
   "language": "python",
   "name": "python3"
  },
  "language_info": {
   "codemirror_mode": {
    "name": "ipython",
    "version": 3
   },
   "file_extension": ".py",
   "mimetype": "text/x-python",
   "name": "python",
   "nbconvert_exporter": "python",
   "pygments_lexer": "ipython3",
   "version": "3.7.3"
  },
  "toc": {
   "base_numbering": 1,
   "nav_menu": {},
   "number_sections": true,
   "sideBar": true,
   "skip_h1_title": false,
   "title_cell": "Table of Contents",
   "title_sidebar": "Contents",
   "toc_cell": false,
   "toc_position": {},
   "toc_section_display": true,
   "toc_window_display": false
  }
 },
 "nbformat": 4,
 "nbformat_minor": 2
}
